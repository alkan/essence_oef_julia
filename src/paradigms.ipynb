{
 "cells": [
  {
   "cell_type": "markdown",
   "metadata": {},
   "source": [
    "# Paradigms\n",
    "\n"
   ]
  },
  {
   "cell_type": "markdown",
   "metadata": {},
   "source": [
    "## Julia is not Object Oriented\n",
    "\n",
    "In object oriented environments we define classes, at runtime we create their instances, and call their static or instance methods.  It is not the case in Julia.  We can not construct such expressions:\n",
    "\n",
    "> **~~object.method(opt)~~**\n",
    "\n",
    "Instead we write:\n",
    "\n",
    "> method(object, opt)\n",
    "\n",
    "A reader says \"But I wrote `Pkg.add(\"PackageName\")` to install a package.  I think I called add method of Pkg object.\"  No! You just called `add()` function of `Pkg` module (or namespace).  Julia has two context which allows to `.` notation usage:\n",
    "* module.method(), module.submodule.method() ...\n",
    "* struct_instance.field\n",
    "\n",
    "and their variations.\n",
    "\n",
    "Julia has a hierarchical type system without inheritance.  \n",
    "\n",
    "Encaptulation"
   ]
  },
  {
   "cell_type": "markdown",
   "metadata": {},
   "source": [
    "## So, Is Julia Functional?\n",
    "\n",
    "We actually can not say that Julia is a pure functional programming language.  If you are, however, aware of functional programming paradigms, it is capable of using Julia in pure functional manner.  We have a few libraries to help us working in a functional Julia environment, but I blieve that we'll have plenty of such libraries soon. "
   ]
  },
  {
   "cell_type": "markdown",
   "metadata": {},
   "source": [
    "## Type System\n",
    "\n"
   ]
  }
 ],
 "metadata": {
  "kernelspec": {
   "display_name": "Julia 0.5.1",
   "language": "julia",
   "name": "julia-0.5"
  }
 },
 "nbformat": 4,
 "nbformat_minor": 2
}
