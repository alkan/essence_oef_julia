{
 "cells": [
  {
   "cell_type": "markdown",
   "metadata": {},
   "source": [
    "# Paradigms\n",
    "\n"
   ]
  },
  {
   "cell_type": "markdown",
   "metadata": {},
   "source": [
    "## Julia is not Object Oriented\n",
    "\n",
    "I object oriented environments we define classes, at runtime we create their instances, and call their static or instance methods.  It is not the case in Julia.  We can not construct such expressions:\n",
    "\n",
    "> **~~object.method(opt)~~**\n",
    "\n",
    "Instead we write:\n",
    "\n",
    "> method(object, opt)\n",
    "\n",
    "A reader says \"But I wrote `Pkg.add(\"PackageName\")` to install a package.  I think I called add method of Pkg object.\""
   ]
  }
 ],
 "metadata": {
  "kernelspec": {
   "display_name": "Julia 0.5.1",
   "language": "julia",
   "name": "julia-0.5"
  }
 },
 "nbformat": 4,
 "nbformat_minor": 2
}
